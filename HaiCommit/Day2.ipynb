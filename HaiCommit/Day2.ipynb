{
 "cells": [
  {
   "cell_type": "code",
   "execution_count": 45,
   "metadata": {},
   "outputs": [
    {
     "name": "stdout",
     "output_type": "stream",
     "text": [
      "torch.Size([3, 3])\n"
     ]
    },
    {
     "data": {
      "text/plain": [
       "tensor([[ 1.,  2., 10.],\n",
       "        [ 2.,  5., 11.],\n",
       "        [ 3.,  6., 12.]])"
      ]
     },
     "execution_count": 45,
     "metadata": {},
     "output_type": "execute_result"
    }
   ],
   "source": [
    "import torch\n",
    "\n",
    "'''Combine the three vectors into a square matrice'''\n",
    "vectorOne = torch.Tensor([1,2,3])\n",
    "vectorTwo = torch.Tensor([2,5,6])\n",
    "vectorThree = torch.Tensor([10, 11, 12])\n",
    "\n",
    "'''1 2 3\n",
    "1 2 10\n",
    "2 5 11\n",
    "3 6 12 '''\n",
    "\n",
    "# matrix3D = torch.concat((vectorOne.T, vectorTwo.T, vectorThree.T), 1)\n",
    "matrix3D = torch.stack((vectorOne, vectorTwo, vectorThree), dim=1)\n",
    "print(matrix3D.size())\n",
    "matrix3D\n",
    "# print(torch.linalg.det(matrix3D))\n"
   ]
  },
  {
   "cell_type": "markdown",
   "metadata": {},
   "source": [
    "Tinh dinh thuc ma tran bang toan"
   ]
  },
  {
   "cell_type": "code",
   "execution_count": 46,
   "metadata": {},
   "outputs": [
    {
     "name": "stdout",
     "output_type": "stream",
     "text": [
      "tensor(False)\n"
     ]
    }
   ],
   "source": [
    "'''Tinh 3 dinh thuc: dinh thuc bo hang 1, cot 1\n",
    "Ma tran la zero-indexing -> cot 1 => cot 0\n",
    "hang 1 -> hang 0\n",
    "'''\n",
    "det11 = matrix3D[1][1] * matrix3D[2][2] - matrix3D[2][1] * matrix3D[1][2]\n",
    "det12 = matrix3D[1][0] * matrix3D[2][2] - matrix3D[2][0] * matrix3D[1][2]\n",
    "det13 = matrix3D[1][0] * matrix3D[2][1] - matrix3D[2][0] * matrix3D[1][1]\n",
    "\n",
    "det_total = matrix3D[0][0] * det11 - matrix3D[0][1] * det12 + matrix3D[0][2] * det13\n",
    "print(det_total == torch.linalg.det(matrix3D))\n",
    "\n",
    "\n"
   ]
  }
 ],
 "metadata": {
  "kernelspec": {
   "display_name": "ml_env",
   "language": "python",
   "name": "python3"
  },
  "language_info": {
   "codemirror_mode": {
    "name": "ipython",
    "version": 3
   },
   "file_extension": ".py",
   "mimetype": "text/x-python",
   "name": "python",
   "nbconvert_exporter": "python",
   "pygments_lexer": "ipython3",
   "version": "3.10.13"
  }
 },
 "nbformat": 4,
 "nbformat_minor": 2
}
