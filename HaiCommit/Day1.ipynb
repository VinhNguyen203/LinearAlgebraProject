{
 "cells": [
  {
   "cell_type": "code",
   "execution_count": 12,
   "metadata": {},
   "outputs": [],
   "source": [
    "import torch\n",
    "import math"
   ]
  },
  {
   "cell_type": "code",
   "execution_count": 6,
   "metadata": {},
   "outputs": [
    {
     "name": "stdout",
     "output_type": "stream",
     "text": [
      "tensor([3., 5., 7.])\n",
      "tensor(20.)\n",
      "tensor([2., 4., 6.])\n"
     ]
    }
   ],
   "source": [
    "matrixOne = torch.Tensor([1,2,3])\n",
    "matrixTwo = torch.Tensor([2,3,4])\n",
    "print(matrixOne + matrixTwo)\n",
    "\n",
    "nhanVoHuong = torch.dot(matrixOne, matrixTwo)\n",
    "print(nhanVoHuong)\n",
    "\n",
    "scalar = 2\n",
    "matrixOne = scalar * matrixOne\n",
    "print(matrixOne)\n"
   ]
  },
  {
   "cell_type": "code",
   "execution_count": 14,
   "metadata": {},
   "outputs": [
    {
     "name": "stdout",
     "output_type": "stream",
     "text": [
      "tensor(0.9926)\n"
     ]
    }
   ],
   "source": [
    "'''Bai tap 1: Tinh cos goc giua matrixOne va matrixTwo, print ra man hinh\n",
    "    Range(i, j): chay tu i den j-1. Vi du range(1,5) = 1 -> 4\n",
    "    Tensor duoc zero-indexing. Phan tu dau tien bat dau tu so 0.\n",
    "    matriceOne = [2,4,6] -> bi nhan 2\n",
    "    '''\n",
    "n = 3\n",
    "\n",
    "'''Buoc 1: Tinh do dai matrixOne va matrixTwo -> mau so\n",
    "    1: lengthOne = 2^2 = 4\n",
    "    2: lengthoOne = 4 + 4^2 = 20\n",
    "    3: lengthOne = 20 + 6^2 = 56\n",
    "    Ket thuc: lengthOne = 56\n",
    "\n",
    "    Can bac 2 cua ca length1 va length2\n",
    "'''\n",
    "lengthOne = 0\n",
    "lengthTwo = 0\n",
    "for i in range(0, n):\n",
    "    lengthOne = lengthOne + (matrixOne[i])*(matrixOne[i])\n",
    "    lengthTwo = lengthTwo + (matrixTwo[i])*(matrixTwo[i])\n",
    "\n",
    "lengthOne = math.sqrt(lengthOne)\n",
    "lengthTwo = math.sqrt(lengthTwo)\n",
    "\n",
    "mauSo = lengthTwo * lengthOne\n",
    "\n",
    "'''Buoc 2: Tich vo huong -> tu so'''\n",
    "nhanVoHuong = torch.dot(matrixOne, matrixTwo)\n",
    "tuSo = nhanVoHuong\n",
    "\n",
    "'''Buoc 3: Tinh cos'''\n",
    "cosOneTwo = tuSo/mauSo\n",
    "print(cosOneTwo)\n",
    "\n",
    "\n",
    "\n",
    "\n",
    "\n",
    "\n",
    "\n",
    "    \n"
   ]
  }
 ],
 "metadata": {
  "kernelspec": {
   "display_name": "ml_env",
   "language": "python",
   "name": "python3"
  },
  "language_info": {
   "codemirror_mode": {
    "name": "ipython",
    "version": 3
   },
   "file_extension": ".py",
   "mimetype": "text/x-python",
   "name": "python",
   "nbconvert_exporter": "python",
   "pygments_lexer": "ipython3",
   "version": "3.10.13"
  }
 },
 "nbformat": 4,
 "nbformat_minor": 2
}
