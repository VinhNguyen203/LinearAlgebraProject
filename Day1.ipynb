{
 "cells": [
  {
   "cell_type": "code",
   "execution_count": 3,
   "metadata": {},
   "outputs": [],
   "source": [
    "import torch"
   ]
  },
  {
   "cell_type": "code",
   "execution_count": 6,
   "metadata": {},
   "outputs": [
    {
     "name": "stdout",
     "output_type": "stream",
     "text": [
      "tensor([3., 5., 7.])\n",
      "tensor(20.)\n",
      "tensor([2., 4., 6.])\n"
     ]
    }
   ],
   "source": [
    "matrixOne = torch.Tensor([1,2,3])\n",
    "matrixTwo = torch.Tensor([2,3,4])\n",
    "print(matrixOne + matrixTwo)\n",
    "\n",
    "nhanvohuong = torch.dot(matrixOne, matrixTwo)\n",
    "print(nhanvohuong)\n",
    "\n",
    "scalar = 2\n",
    "matrixOne = scalar * matrixOne\n",
    "print(matrixOne)\n",
    "\n"
   ]
  },
  {
   "cell_type": "code",
   "execution_count": null,
   "metadata": {},
   "outputs": [],
   "source": [
    "n = 3 \n",
    "''' \n",
    "'''\n",
    "\n",
    "lengthOne = 0 \n",
    "lengthTwo = 0\n",
    "for i in range(0, n):\n",
    "    lengthOne = lengthOne + (matrixOne[i])*(matrixOne[i])\n",
    "    lengthTwo = lengthTwo + (matrixTwo[i])*(matrixTwo[i])\n",
    "\n",
    "lengthOne = math.sqrt(lengthOne)\n",
    "lengthTwo = math.sqrt(lengthTwo)\n",
    "\n",
    "mauso = lengthOne * lengthTwo\n",
    "\n",
    "NhanVoHuong = torch.dot(matrixOne, matrixTwo)\n",
    "TuSo = NhanVoHuong\n",
    "\n",
    "cosOne/Two = tuso/mauso\n",
    "print(cosOneTwo)\n"
   ]
  }
 ],
 "metadata": {
  "kernelspec": {
   "display_name": "Python 3",
   "language": "python",
   "name": "python3"
  },
  "language_info": {
   "codemirror_mode": {
    "name": "ipython",
    "version": 3
   },
   "file_extension": ".py",
   "mimetype": "text/x-python",
   "name": "python",
   "nbconvert_exporter": "python",
   "pygments_lexer": "ipython3",
   "version": "3.10.12"
  }
 },
 "nbformat": 4,
 "nbformat_minor": 2
}
