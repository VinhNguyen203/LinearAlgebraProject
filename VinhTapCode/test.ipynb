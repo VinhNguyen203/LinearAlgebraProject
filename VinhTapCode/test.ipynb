{
 "cells": [
  {
   "cell_type": "code",
   "execution_count": null,
   "id": "83ac7ecd",
   "metadata": {},
   "outputs": [],
   "source": [
    "print(\"im gay\")"
   ]
  }
 ],
 "metadata": {
  "language_info": {
   "name": "python"
  }
 },
 "nbformat": 4,
 "nbformat_minor": 5
}
